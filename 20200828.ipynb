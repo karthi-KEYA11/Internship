{
 "cells": [
  {
   "cell_type": "markdown",
   "metadata": {},
   "source": [
    "1.Function to print all numbers divisible by 6 and not a factor of 100 in a given range(lb, ub) inclusive\n"
   ]
  },
  {
   "cell_type": "code",
   "execution_count": 1,
   "metadata": {},
   "outputs": [
    {
     "name": "stdout",
     "output_type": "stream",
     "text": [
      "6\n",
      "12\n",
      "18\n",
      "24\n",
      "30\n",
      "36\n",
      "42\n",
      "48\n"
     ]
    }
   ],
   "source": [
    "def fun_6(lb,ub):\n",
    "    for i in range(lb,ub+1):\n",
    "        if ((i%6==0)and(i%100!=0)):\n",
    "            print(i)\n",
    "fun_6(1,50)\n"
   ]
  },
  {
   "cell_type": "markdown",
   "metadata": {},
   "source": [
    "2.Function to find the average of cubes of all even numbers in a given range(lb, ub) inclusive  \n"
   ]
  },
  {
   "cell_type": "code",
   "execution_count": 2,
   "metadata": {},
   "outputs": [
    {
     "name": "stdout",
     "output_type": "stream",
     "text": [
      "2420.0\n"
     ]
    }
   ],
   "source": [
    "def even_3(lb,ub):\n",
    "    sum=0\n",
    "    count=0\n",
    "    for i in range(lb,ub+1):\n",
    "        if((i%2==0)and(i!=1)):\n",
    "            cub=i*i*i\n",
    "            sum=sum+cub\n",
    "            count=count+1\n",
    "    avg=sum/count\n",
    "    return avg\n",
    "avg=even_3(1,20)\n",
    "print(avg)\n"
   ]
  },
  {
   "cell_type": "markdown",
   "metadata": {},
   "source": [
    "3.Function to generate the list of factors for a given number      "
   ]
  },
  {
   "cell_type": "code",
   "execution_count": 3,
   "metadata": {},
   "outputs": [
    {
     "name": "stdout",
     "output_type": "stream",
     "text": [
      "1\n",
      "3\n",
      "5\n",
      "9\n",
      "15\n",
      "45\n"
     ]
    }
   ],
   "source": [
    "def factor(n):\n",
    "    for i in range(1,n+1):\n",
    "        if (n%i==0):\n",
    "            print(i)\n",
    "factor(45)\n"
   ]
  },
  {
   "cell_type": "markdown",
   "metadata": {},
   "source": [
    "4.Function to calculate the factorial of a given number  \n"
   ]
  },
  {
   "cell_type": "code",
   "execution_count": 4,
   "metadata": {},
   "outputs": [
    {
     "name": "stdout",
     "output_type": "stream",
     "text": [
      "362880\n"
     ]
    }
   ],
   "source": [
    "def factorial(n):\n",
    "    fac=1\n",
    "    for i in range(1,n+1):\n",
    "        fac=fac*i\n",
    "    return fac\n",
    "fac=factorial(9)\n",
    "print(fac)\n"
   ]
  },
  {
   "cell_type": "markdown",
   "metadata": {},
   "source": [
    "5.Function to check if a given number is Prime"
   ]
  },
  {
   "cell_type": "code",
   "execution_count": 5,
   "metadata": {},
   "outputs": [
    {
     "name": "stdout",
     "output_type": "stream",
     "text": [
      "Not prime\n"
     ]
    }
   ],
   "source": [
    "def fun_prime(n):\n",
    "    if n>1:\n",
    "        for i in range(2,n):\n",
    "            if(n%i==0):\n",
    "                print(\"Not prime\")\n",
    "                break\n",
    "        else:\n",
    "            print(\"prime\")\n",
    "    else:\n",
    "         print(\"Not prime\")\n",
    "fun_prime(343)\n",
    "\n"
   ]
  },
  {
   "cell_type": "markdown",
   "metadata": {},
   "source": [
    "6.Function to calculate the average first N Prime numbers\n"
   ]
  },
  {
   "cell_type": "code",
   "execution_count": 6,
   "metadata": {},
   "outputs": [
    {
     "data": {
      "text/plain": [
       "12.9"
      ]
     },
     "execution_count": 6,
     "metadata": {},
     "output_type": "execute_result"
    }
   ],
   "source": [
    "def f_prime(n):\n",
    "    if n>1:\n",
    "        for i in range(2,n):\n",
    "            if(n%i==0):\n",
    "                return False\n",
    "                break\n",
    "        else:\n",
    "            return True\n",
    "    else:\n",
    "         return False\n",
    "def avg_prime(N):\n",
    "    c=0\n",
    "    start=2\n",
    "    s=0\n",
    "    while(True):\n",
    "        if f_prime(start):\n",
    "            c+=1\n",
    "            s+=start\n",
    "        if c==N:\n",
    "            break\n",
    "        else:\n",
    "            start+=1\n",
    "    return s/N\n",
    "avg_prime(10)\n",
    "    \n",
    "        "
   ]
  },
  {
   "cell_type": "markdown",
   "metadata": {},
   "source": [
    "7.Function to generate all Perfect numbers in a given range"
   ]
  },
  {
   "cell_type": "code",
   "execution_count": 7,
   "metadata": {},
   "outputs": [
    {
     "name": "stdout",
     "output_type": "stream",
     "text": [
      "6\n",
      "28\n"
     ]
    }
   ],
   "source": [
    "def perfect(n):\n",
    "    sumf=0\n",
    "    for i in range(1,n):\n",
    "        if (n%i==0):\n",
    "            sumf=sumf+i\n",
    "    if(sumf==n):\n",
    "        return n\n",
    "    else:\n",
    "        return 0\n",
    "def all_perfect(N):\n",
    "    for j in range(1,N+1):\n",
    "        k=perfect(j)\n",
    "        if(k!=0):\n",
    "            print(k)\n",
    "all_perfect(50)\n",
    "\n"
   ]
  },
  {
   "cell_type": "markdown",
   "metadata": {},
   "source": [
    "8.Function to calculate average of all factorials in a given range\n"
   ]
  },
  {
   "cell_type": "code",
   "execution_count": 8,
   "metadata": {},
   "outputs": [
    {
     "name": "stdout",
     "output_type": "stream",
     "text": [
      "403791.3\n"
     ]
    }
   ],
   "source": [
    "def factorial(n):\n",
    "    fact=1\n",
    "    for i in range(1,n+1):\n",
    "        fact=fact*i\n",
    "    return fact\n",
    "def avg_fact(N):\n",
    "    fact_sum=0\n",
    "    for j in range(1,N+1):\n",
    "        k=factorial(j)\n",
    "        fact_sum=fact_sum+k\n",
    "    avg=fact_sum/N\n",
    "    print(avg)\n",
    "avg_fact(10)\n"
   ]
  },
  {
   "cell_type": "markdown",
   "metadata": {},
   "source": [
    "9.Function to generate N odd armstrong numbers"
   ]
  },
  {
   "cell_type": "code",
   "execution_count": null,
   "metadata": {},
   "outputs": [],
   "source": [
    "def odd_armstrong(n):\n",
    "    s=0\n",
    "    temp=n\n",
    "    while(n!=0):\n",
    "        r=n%10\n",
    "        s=s+r*r*r\n",
    "        n=n/10\n",
    "    if(s==temp):\n",
    "        if(s%2!=0):\n",
    "            return True\n",
    "    else:\n",
    "        return False\n",
    "def pri_arm(N):\n",
    "    c=0\n",
    "    start=1\n",
    "    numd=[]\n",
    "    while(True):\n",
    "        if odd_armstrong(start):\n",
    "            c+=1\n",
    "            numd.append(start)\n",
    "        if c==N:\n",
    "            break\n",
    "        else:\n",
    "            start+=1\n",
    "    return numd\n",
    "numd=pri_arm(3)\n",
    "print(numd)\n",
    "\n"
   ]
  },
  {
   "cell_type": "markdown",
   "metadata": {},
   "source": [
    "10.Function to generate Multiplication table for a number in a given range\n",
    "10 in the range(100, 102) inclusive\n",
    "    *10 x 100 = 1000\n",
    "    *10 x 101 = 1010\n",
    "    *10 x 102 = 1020\n"
   ]
  },
  {
   "cell_type": "code",
   "execution_count": null,
   "metadata": {},
   "outputs": [],
   "source": [
    "def fun_tab(a,b,c):\n",
    "    for i in range(b,c+1):\n",
    "        print( a, \"  X \", i,\" = \", a*i)\n",
    "fun_tab(10,101,108)\n",
    10   X  101  =  1010
    10   X  102  =  1020
    10   X  103  =  1030
    10   X  104  =  1040
    10   X  105  =  1050
    10   X  106  =  1060
    10   X  107  =  1070
    10   X  108  =  1080

    " "
   ]
  },
  {
   "cell_type": "code",
   "execution_count": null,
   "metadata": {},
   "outputs": [],
   "source": []
  }
 ],
 "metadata": {
  "kernelspec": {
   "display_name": "Python 3",
   "language": "python",
   "name": "python3"
  },
  "language_info": {
   "codemirror_mode": {
    "name": "ipython",
    "version": 3
   },
   "file_extension": ".py",
   "mimetype": "text/x-python",
   "name": "python",
   "nbconvert_exporter": "python",
   "pygments_lexer": "ipython3",
   "version": "3.8.3"
  }
 },
 "nbformat": 4,
 "nbformat_minor": 4
}
