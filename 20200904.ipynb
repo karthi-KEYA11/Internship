{
 "cells": [
  {
   "cell_type": "markdown",
   "metadata": {},
   "source": [
    "## Problem Statement\n",
    "Consider the following algorithm to generate a sequence of numbers. Start with an\n",
    "integer n. If n is even, divide by 2. If n is odd, multiply by 3 and add 1. Repeat this\n",
    "process with the new value of n, terminating when n = 1. For example, the following\n",
    "sequence of numbers will be generated for n = 22:\n",
    "\n",
    "22 11 34 17 52 26 13 40 20 10 5 16 8 4 2 1\n",
    "\n",
    "It is conjectured (but not yet proven) that this algorithm will terminate at n = 1 for\n",
    "every integer n. Still, the conjecture holds for all integers up to at least 1, 000, 000.\n",
    "For an input n, the cycle-length of n is the number of numbers generated up to and\n",
    "including the 1. In the example above, the cycle length of 22 is 16. Given any two\n",
    "numbers i and j, you are to determine the maximum cycle length over all numbers\n",
    "between i and j, including both endpoints.\n",
    "Input\n",
    "The input will consist of a series of pairs of integers i and j, one pair of integers per\n",
    "line. All integers will be less than 1,000,000 and greater than 0.\n",
    "Output\n",
    "For each pair of input integers i and j, output i, j in the same order in which they\n",
    "appeared in the input and then the maximum cycle length for integers between and\n",
    "including i and j. These three numbers should be separated by one space, with all three\n",
    "numbers on one line and with one line of output for each line of input.\n",
    "Sample Input\n",
    "1 10\n",
    "100 200\n",
    "201 210\n",
    "900 1000\n",
    "\n",
    "Sample Output\n",
    "20\n",
    "125\n",
    "89\n",
    "174\n",
    "\n",
    "\n",
    "\n"
   ]
  },
  {
   "cell_type": "code",
   "execution_count": 10,
   "metadata": {},
   "outputs": [
    {
     "data": {
      "text/plain": [
       "(100, 200, 125)"
      ]
     },
     "execution_count": 10,
     "metadata": {},
     "output_type": "execute_result"
    }
   ],
   "source": [
    "def nums(n):\n",
    "    count=1\n",
    "    if n==1:\n",
    "        count=1\n",
    "    else:\n",
    "        while(n!=1):\n",
    "            count+=1\n",
    "            if(n%2==0):\n",
    "                n=n/2\n",
    "            else:\n",
    "                n=3*n+1\n",
    "    return count\n",
    "def num3n(lb,ub):\n",
    "    countl=[]\n",
    "    for i in range(lb,ub):\n",
    "        ck=nums(i)\n",
    "        countl.append(ck)\n",
    "    return lb,ub,max(countl)\n",
    "num3n(100,200)\n",
    "    \n",
    "    "
   ]
  },
  {
   "cell_type": "code",
   "execution_count": 13,
   "metadata": {},
   "outputs": [
    {
     "name": "stdout",
     "output_type": "stream",
     "text": [
      "['.', '.', '.', '*']\n",
      "['*', '.', '.', '.']\n"
     ]
    }
   ],
   "source": [
    "a=[[\".\",\".\",\".\",\"*\"],[\"*\",\".\",\".\",\".\"]]\n",
    "for record in a:\n",
    "    print(record)"
   ]
  },
  {
   "cell_type": "code",
   "execution_count": 6,
   "metadata": {},
   "outputs": [
    {
     "ename": "AttributeError",
     "evalue": "'list' object has no attribute 'arange'",
     "output_type": "error",
     "traceback": [
      "\u001b[1;31m---------------------------------------------------------------------------\u001b[0m",
      "\u001b[1;31mAttributeError\u001b[0m                            Traceback (most recent call last)",
      "\u001b[1;32m<ipython-input-6-bbd76a2388c9>\u001b[0m in \u001b[0;36m<module>\u001b[1;34m\u001b[0m\n\u001b[0;32m      1\u001b[0m \u001b[1;32mimport\u001b[0m \u001b[0mpandas\u001b[0m \u001b[1;32mas\u001b[0m \u001b[0mpd\u001b[0m\u001b[1;33m\u001b[0m\u001b[1;33m\u001b[0m\u001b[0m\n\u001b[1;32m----> 2\u001b[1;33m \u001b[0mdf\u001b[0m\u001b[1;33m.\u001b[0m\u001b[0marange\u001b[0m\u001b[1;33m(\u001b[0m\u001b[1;33m[\u001b[0m\u001b[1;36m1.5\u001b[0m\u001b[1;33m,\u001b[0m\u001b[1;36m2.5\u001b[0m\u001b[1;33m,\u001b[0m\u001b[1;36m3.75\u001b[0m\u001b[1;33m,\u001b[0m\u001b[1;36m4.25\u001b[0m\u001b[1;33m,\u001b[0m\u001b[1;36m4.5\u001b[0m\u001b[1;33m]\u001b[0m\u001b[1;33m)\u001b[0m\u001b[1;33m\u001b[0m\u001b[1;33m\u001b[0m\u001b[0m\n\u001b[0m\u001b[0;32m      3\u001b[0m \u001b[1;33m\u001b[0m\u001b[0m\n\u001b[0;32m      4\u001b[0m \u001b[0mprint\u001b[0m\u001b[1;33m(\u001b[0m\u001b[0mdf\u001b[0m\u001b[1;33m.\u001b[0m\u001b[0mvar\u001b[0m\u001b[1;33m(\u001b[0m\u001b[1;33m)\u001b[0m\u001b[1;33m)\u001b[0m\u001b[1;33m\u001b[0m\u001b[1;33m\u001b[0m\u001b[0m\n",
      "\u001b[1;31mAttributeError\u001b[0m: 'list' object has no attribute 'arange'"
     ]
    }
   ],
   "source": [
    "import pandas as pd\n",
    "df.arange([1.5,2.5,3.75,4.25,4.5]) \n",
    "\n",
    "print(df.var())"
   ]
  }
 ],
 "metadata": {
  "kernelspec": {
   "display_name": "Python 3",
   "language": "python",
   "name": "python3"
  },
  "language_info": {
   "codemirror_mode": {
    "name": "ipython",
    "version": 3
   },
   "file_extension": ".py",
   "mimetype": "text/x-python",
   "name": "python",
   "nbconvert_exporter": "python",
   "pygments_lexer": "ipython3",
   "version": "3.8.3"
  }
 },
 "nbformat": 4,
 "nbformat_minor": 4
}
