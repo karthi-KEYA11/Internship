{
 "cells": [
  {
   "cell_type": "markdown",
   "metadata": {},
   "source": [
    "# Problem Statement"
   ]
  },
  {
   "cell_type": "markdown",
   "metadata": {},
   "source": [
    "1.Generate all Narcissistic Numbers in a given range of numbers.\n",
    "\n"
   ]
  },
  {
   "cell_type": "code",
   "execution_count": 5,
   "metadata": {},
   "outputs": [
    {
     "data": {
      "text/plain": [
       "[1,\n",
       " 2,\n",
       " 3,\n",
       " 4,\n",
       " 5,\n",
       " 6,\n",
       " 7,\n",
       " 8,\n",
       " 9,\n",
       " 153,\n",
       " 370,\n",
       " 371,\n",
       " 407,\n",
       " 1634,\n",
       " 8208,\n",
       " 9474,\n",
       " 54748,\n",
       " 92727,\n",
       " 93084]"
      ]
     },
     "execution_count": 5,
     "metadata": {},
     "output_type": "execute_result"
    }
   ],
   "source": [
    "def Narcissistic(n,p):  \n",
    "    s = 0\n",
    "    temp = n \n",
    "  \n",
    "    while temp > 0:\n",
    "        d = temp % 10\n",
    "        s += d ** p\n",
    "        temp //= 10\n",
    "    if s == n:\n",
    "        return True\n",
    "    return False\n",
    "def getNarcissistic(lb,ub):\n",
    "    nar=[]\n",
    "    for i in range(lb,ub+1):\n",
    "        po=len(str(i))\n",
    "        if Narcissistic(i,po):\n",
    "            nar.append(i) \n",
    "    return nar\n",
    "getNarcissistic(1,100000)\n",
    "   \n",
    "\n"
   ]
  },
  {
   "cell_type": "code",
   "execution_count": null,
   "metadata": {},
   "outputs": [],
   "source": []
  }
 ],
 "metadata": {
  "kernelspec": {
   "display_name": "Python 3",
   "language": "python",
   "name": "python3"
  },
  "language_info": {
   "codemirror_mode": {
    "name": "ipython",
    "version": 3
   },
   "file_extension": ".py",
   "mimetype": "text/x-python",
   "name": "python",
   "nbconvert_exporter": "python",
   "pygments_lexer": "ipython3",
   "version": "3.8.3"
  }
 },
 "nbformat": 4,
 "nbformat_minor": 4
}
