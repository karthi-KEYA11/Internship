{
 "cells": [
  {
   "cell_type": "markdown",
   "metadata": {},
   "source": [
    "### Problem statement\n",
    "- 1.Function to validate a phone number\n",
    "-     def phoneValidator(number):\n",
    "-     Start with 6-9 followed by 9 digits\n",
    "-     +91-(10 digits)\n"
   ]
  },
  {
   "cell_type": "code",
   "execution_count": 15,
   "metadata": {},
   "outputs": [
    {
     "data": {
      "text/plain": [
       "True"
      ]
     },
     "execution_count": 15,
     "metadata": {},
     "output_type": "execute_result"
    }
   ],
   "source": [
    "import re\n",
    "def phoneValidator(number):\n",
    "    if re.match(\"^[6-9][0-9]{9}|^[+][9][1][-][0-9]{10}\",number):\n",
    "        return True\n",
    "    else:\n",
    "        return False\n",
    "phoneValidator(\"+91-9966494749\")    \n",
    "    "
   ]
  },
  {
   "cell_type": "markdown",
   "metadata": {},
   "source": [
    "### Problem statement\n",
    "1 Function to validate email id\n",
    "- def emailValidator(email):\n",
    "- username\n",
    "- Length of username : [6,15]\n",
    "- No special characters other than _ .\n",
    "- Should not begin and end with _ .\n",
    "- Character Set : all digits and lower case alphabet _.\n",
    "- domain\n",
    "- Length of domain : [3, 18]\n",
    "- No special characters\n",
    "- Character Set : all digits and lower case alphabet\n",
    "- extension\n",
    "- Length of extension : [2, 4]\n",
    "- No special characters\n",
    "-  Character Set : lower case alphabet\n"
   ]
  },
  {
   "cell_type": "code",
   "execution_count": 2,
   "metadata": {},
   "outputs": [
    {
     "data": {
      "text/plain": [
       "True"
      ]
     },
     "execution_count": 2,
     "metadata": {},
     "output_type": "execute_result"
    }
   ],
   "source": [
    "import re\n",
    "def emailValidator(email):\n",
    "    if re.match(\"^[a-z0-9]+[\\._]?[a-z0-9]+[@]\\w+[.]\\w{2,3}$\",email):\n",
    "        return True\n",
    "    else:\n",
    "        return False\n",
    "emailValidator(\"karthikkallaganti@gmail.com\")    \n",
    "        "
   ]
  },
  {
   "cell_type": "markdown",
   "metadata": {},
   "source": [
    "### Problem statement\n",
    "- 1.Function to validate URL "
   ]
  },
  {
   "cell_type": "code",
   "execution_count": 24,
   "metadata": {},
   "outputs": [
    {
     "data": {
      "text/plain": [
       "True"
      ]
     },
     "execution_count": 24,
     "metadata": {},
     "output_type": "execute_result"
    }
   ],
   "source": [
    "import re\n",
    "def urlValidator(url):\n",
    "    if re.match(\"^(https://).*\",url):\n",
    "        return True\n",
    "    else:\n",
    "        return False\n",
    "urlValidator(\"https://docs.python.org/3.4/library/re.html\")    \n",
    "                "
   ]
  },
  {
   "cell_type": "markdown",
   "metadata": {},
   "source": [
    "### Problem statement\n",
    "1.Function to validate Password\n",
    "- Minimum 6 characters\n",
    "- Character set : all alphabet(lower case, upper case), all digits, special characters except whitespace\n",
    "- Should contain at least one upper case letter, one digit and one special character\n",
    "- Maximum 18 characters\n",
    "\n",
    "\n"
   ]
  },
  {
   "cell_type": "code",
   "execution_count": 5,
   "metadata": {},
   "outputs": [
    {
     "data": {
      "text/plain": [
       "True"
      ]
     },
     "execution_count": 5,
     "metadata": {},
     "output_type": "execute_result"
    }
   ],
   "source": [
    "import re\n",
    "def passwordValidator(password):\n",
    "    if re.match(\"^(?=.*[a-z])(?=.*[A-Z])(?=.*[0-9])(?=.*[@$!%*#?&])[A-Za-z0-9@$!#%*?&]{6,18}$\",password):\n",
    "        return True\n",
    "    else:\n",
    "        return False\n",
    "passwordValidator(\"Karthk@123\")   "
   ]
  },
  {
   "cell_type": "code",
   "execution_count": null,
   "metadata": {},
   "outputs": [],
   "source": []
  }
 ],
 "metadata": {
  "kernelspec": {
   "display_name": "Python 3",
   "language": "python",
   "name": "python3"
  },
  "language_info": {
   "codemirror_mode": {
    "name": "ipython",
    "version": 3
   },
   "file_extension": ".py",
   "mimetype": "text/x-python",
   "name": "python",
   "nbconvert_exporter": "python",
   "pygments_lexer": "ipython3",
   "version": "3.8.3"
  }
 },
 "nbformat": 4,
 "nbformat_minor": 4
}
