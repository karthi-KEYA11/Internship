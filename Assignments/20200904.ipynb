{
 "cells": [
  {
   "cell_type": "markdown",
   "metadata": {},
   "source": [
    "## Problem Statement\n",
    "Consider the following algorithm to generate a sequence of numbers. Start with an\n",
    "integer n. If n is even, divide by 2. If n is odd, multiply by 3 and add 1. Repeat this\n",
    "process with the new value of n, terminating when n = 1. For example, the following\n",
    "sequence of numbers will be generated for n = 22:\n",
    "\n",
    "22 11 34 17 52 26 13 40 20 10 5 16 8 4 2 1\n",
    "\n",
    "It is conjectured (but not yet proven) that this algorithm will terminate at n = 1 for\n",
    "every integer n. Still, the conjecture holds for all integers up to at least 1, 000, 000.\n",
    "For an input n, the cycle-length of n is the number of numbers generated up to and\n",
    "including the 1. In the example above, the cycle length of 22 is 16. Given any two\n",
    "numbers i and j, you are to determine the maximum cycle length over all numbers\n",
    "between i and j, including both endpoints.\n",
    "Input\n",
    "The input will consist of a series of pairs of integers i and j, one pair of integers per\n",
    "line. All integers will be less than 1,000,000 and greater than 0.\n",
    "Output\n",
    "For each pair of input integers i and j, output i, j in the same order in which they\n",
    "appeared in the input and then the maximum cycle length for integers between and\n",
    "including i and j. These three numbers should be separated by one space, with all three\n",
    "numbers on one line and with one line of output for each line of input.\n",
    "Sample Input\n",
    "1 10\n",
    "100 200\n",
    "201 210\n",
    "900 1000\n",
    "\n",
    "Sample Output\n",
    "20\n",
    "125\n",
    "89\n",
    "174\n",
    "\n",
    "\n",
    "\n"
   ]
  },
  {
   "cell_type": "code",
   "execution_count": 3,
   "metadata": {},
   "outputs": [
    {
     "data": {
      "text/plain": [
       "(600, 800, 171)"
      ]
     },
     "execution_count": 3,
     "metadata": {},
     "output_type": "execute_result"
    }
   ],
   "source": [
    "def nums(n):\n",
    "    count=1\n",
    "    if n==1:\n",
    "        count=1\n",
    "    else:\n",
    "        while(n!=1):\n",
    "            count+=1\n",
    "            if(n%2==0):\n",
    "                n=n/2\n",
    "            else:\n",
    "                n=3*n+1\n",
    "    return count\n",
    "def num3n(lb,ub):\n",
    "    countl=[]\n",
    "    for i in range(lb,ub):\n",
    "        ck=nums(i)\n",
    "        countl.append(ck)\n",
    "    return lb,ub,max(countl)\n",
    "num3n(600,800)\n",
    "    \n",
    "    "
   ]
  },
  {
   "cell_type": "markdown",
   "metadata": {},
   "source": [
    "### Minesweeper\n",
    "Have you ever played Minesweeper? This cute little game comes with a certain op- erating system whose name we can’t remember. The goal of the game is to find where\n",
    "\n",
    "all the mines are located within a M × N field. The game shows a number in a square which tells you how many mines there are adjacent to that square. Each square has at most eight adjacent squares. The 4×4 field on the left contains two mines, each represented by a “*” character. If we represent the same field by the hint numbers described above, we end up with the field on the right:\n",
    "\n",
    "... .... ... ....\n",
    "\n",
    "100 2210 110 1110\n",
    "\n",
    "Input The input will consist of an arbitrary number of fields. The first line of each field contains two integers n and m (0 < n, m ≤ 100) which stand for the number of lines and columns of the field, respectively. Each of the next n lines contains exactly m characters, representing the field. Safe squares are denoted by “.” and mine squares by “,” both without the quotes. The first field line where n = m = 0 represents the end of input and should not be processed. Output For each field, print the message Field #x: on a line alone, where x stands for the number of the field starting from 1. The next n lines should contain the field with the “.” characters replaced by the number of mines adjacent to that square. There must be an empty line between field outputs. Sample Input 4 4... .... ... .... 3 5 **... ..... .... 0 0\n",
    "\n",
    "Sample Output Field #1: 100 2210 110 1110\n",
    "\n",
    "Field #2: *100 33200 1100"
   ]
  },
  {
   "cell_type": "code",
   "execution_count": 3,
   "metadata": {},
   "outputs": [
    {
     "name": "stdout",
     "output_type": "stream",
     "text": [
      "4 4\n",
      "*... .... ..*. ....\n",
      "*100\n",
      "1211\n",
      "01*1\n",
      "0111\n"
     ]
    }
   ],
   "source": [
    "r, c = map(int, input().split())\n",
    "s = input()\n",
    "lt = s.split()\n",
    "m = ''\n",
    "for i in lt :\n",
    "    for j in i :\n",
    "        m += j\n",
    "\n",
    "def getInput(r, c, s):\n",
    "    li = s.split()\n",
    "    op = {}\n",
    "    count = 1\n",
    "    for i in range(r):\n",
    "        line = [c for c in li[i]]\n",
    "        for j in range(c):\n",
    "            t = []\n",
    "            t.append(i)\n",
    "            t.append(j)\n",
    "            if line[j] == '*':\n",
    "                t.append('yes')\n",
    "            else:\n",
    "                t.append('no')\n",
    "            op[count] = t\n",
    "            count+=1\n",
    "    return op\n",
    "\n",
    "field = getInput(r,c,s)\n",
    "\n",
    "def countMines(x,y, field):\n",
    "    c = 0\n",
    "    surroundingIndexes_lst  = [(x-1,y-1), (x-1,y), (x-1, y+1),(x,y-1),(x,y+1),(x+1, y-1),(x+1, y),(x+1, y+1)]\n",
    "    for each_index in surroundingIndexes_lst :\n",
    "        if [each_index[0],each_index[1],'yes'] in field.values() :\n",
    "            c = c + 1\n",
    "        \n",
    "    return c\n",
    "lst = [] \n",
    "for k in field :\n",
    "    x,y = field[k][:2]\n",
    "    lst.append(countMines(x,y, field))\n",
    "\n",
    "res = \"\"\n",
    "for i in range(len(m)) :\n",
    "    if m[i] == '*' :\n",
    "        res += '*'\n",
    "    else :\n",
    "        res +=str(lst[i])\n",
    "j = column\n",
    "k = 0 \n",
    "for i in range(row):\n",
    "    \n",
    "    print(res[k:j])\n",
    "    k = j\n",
    "    j =  j + column"
   ]
  },
  {
   "cell_type": "code",
   "execution_count": null,
   "metadata": {},
   "outputs": [],
   "source": []
  }
 ],
 "metadata": {
  "kernelspec": {
   "display_name": "Python 3",
   "language": "python",
   "name": "python3"
  },
  "language_info": {
   "codemirror_mode": {
    "name": "ipython",
    "version": 3
   },
   "file_extension": ".py",
   "mimetype": "text/x-python",
   "name": "python",
   "nbconvert_exporter": "python",
   "pygments_lexer": "ipython3",
   "version": "3.8.3"
  }
 },
 "nbformat": 4,
 "nbformat_minor": 4
}
