{
 "cells": [
  {
   "cell_type": "markdown",
   "metadata": {},
   "source": [
    "### Problem statement\n",
    "- Digit Frequency - Generate a frequency distribution for all digits in an Alphanumeric string\n",
    "- Input : ‘abc1122665’\n",
    "- Output : 0:0, 1:2, 2:4, 3:0, 4:0, 5:1, 6:2, 7:0, 8:0, 9:0\n",
    "- Input : ‘qwerty’\n",
    "- Output : 0:0, 1:0, 2:0, 3:0, 4:0, 5:0, 6:0, 7:0, 8:0, 9:0\n"
   ]
  },
  {
   "cell_type": "code",
   "execution_count": 18,
   "metadata": {},
   "outputs": [
    {
     "data": {
      "text/plain": [
       "{0: 0, 1: 2, 2: 2, 3: 0, 4: 0, 5: 1, 6: 2, 7: 0, 8: 0, 9: 0}"
      ]
     },
     "execution_count": 18,
     "metadata": {},
     "output_type": "execute_result"
    }
   ],
   "source": [
    "def digifrequency(stri):\n",
    "    di={}\n",
    "    number=['0','1','2','3','4','5','6','7','8','9']\n",
    "    for i in range(0,10):\n",
    "        di[i]=stri.count(number[i])\n",
    "    return di    \n",
    "    \n",
    "digifrequency(\"abc1122665\")"
   ]
  },
  {
   "cell_type": "markdown",
   "metadata": {},
   "source": [
    "### Problem statement\n",
    "- Sample Input\n",
    "- 3\n",
    "- 10.00\n",
    "- 20.00\n",
    "- 30.00\n",
    "- 4\n",
    "- 15.00\n",
    "- 15.01\n",
    "- 3.00\n",
    "- 3.01\n",
    "- 0\n",
    "- Sample Output\n",
    "- $10.00\n",
    "11.99\n"
   ]
  },
  {
   "cell_type": "code",
   "execution_count": 7,
   "metadata": {},
   "outputs": [
    {
     "name": "stdout",
     "output_type": "stream",
     "text": [
      "4\n",
      "15\n",
      "15.1\n",
      "3\n",
      "3.1\n"
     ]
    },
    {
     "data": {
      "text/plain": [
       "11.999999999999998"
      ]
     },
     "execution_count": 7,
     "metadata": {},
     "output_type": "execute_result"
    }
   ],
   "source": [
    "def tripcost(n,li):\n",
    "    l1=max(li)\n",
    "    li1=li.copy()\n",
    "    li1.sort()\n",
    "    l2=li1[-2]\n",
    "    avg=sum(li1)/n\n",
    "    diff1=abs(avg-l1)\n",
    "    diff2=abs(avg-l2)\n",
    "    sua=diff1+diff2\n",
    "    return sua\n",
    "n=int(input())\n",
    "li=[]\n",
    "for i in range(0,n):\n",
    "    li.append(float(input()))\n",
    "tripcost(n,li)\n",
    "    "
   ]
  },
  {
   "cell_type": "code",
   "execution_count": null,
   "metadata": {},
   "outputs": [],
   "source": []
  }
 ],
 "metadata": {
  "kernelspec": {
   "display_name": "Python 3",
   "language": "python",
   "name": "python3"
  },
  "language_info": {
   "codemirror_mode": {
    "name": "ipython",
    "version": 3
   },
   "file_extension": ".py",
   "mimetype": "text/x-python",
   "name": "python",
   "nbconvert_exporter": "python",
   "pygments_lexer": "ipython3",
   "version": "3.8.3"
  }
 },
 "nbformat": 4,
 "nbformat_minor": 4
}
