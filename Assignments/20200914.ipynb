{
 "cells": [
  {
   "cell_type": "markdown",
   "metadata": {},
   "source": [
    "### PROBLEM STATEMENT\n",
    "- Find and Replace application\n",
    "- Count the total number of occurrences of a word\n",
    "- Check If a word is existing in a file\n",
    "- Replace all occurrences of a word with another word\n"
   ]
  },
  {
   "cell_type": "code",
   "execution_count": 8,
   "metadata": {},
   "outputs": [
    {
     "name": "stdout",
     "output_type": "stream",
     "text": [
      "Enter the word to replace : bike\n",
      "occurence of word  :  1\n",
      "Enter the word to replace : car\n"
     ]
    }
   ],
   "source": [
    "#FIND AND REPLACE APPLICATION\n",
    "from collections import Counter\n",
    "def wordoccurences(filename):\n",
    "     with open(filename) as f:\n",
    "            k= Counter(f.read().split())\n",
    "            return k\n",
    "\n",
    "def replacewordall(filename,fword):\n",
    "    fin = open(filename, \"r\")\n",
    "    data = fin.read()\n",
    "    if fword in data:\n",
    "        k=wordoccurences(filename)\n",
    "        print(\"occurence of word  : \",k[fword])\n",
    "        replaceword=input(\"Enter the word to replace : \")\n",
    "        data = data.replace(fword,replaceword)\n",
    "\n",
    "    else:\n",
    "        print(\"Word does not exist\")\n",
    "    fin.close()\n",
    "    fin = open(filename, \"w\")\n",
    "    fin.write(data)\n",
    "    fin.close()\n",
    "filename='Datasets/sampletext'\n",
    "fword=input(\"Enter the word to replace : \")\n",
    "\n",
    "replacewordall(filename,fword)    "
   ]
  },
  {
   "cell_type": "markdown",
   "metadata": {},
   "source": [
    "###  PROBLEM STATEMENT\n",
    "- Checking for Anagrams(Strings consisting of same character set and character frequency)\n",
    "- abcabc\t\taabbcc -> True\n",
    "- abcd abcdd -> False\n",
    "\n"
   ]
  },
  {
   "cell_type": "code",
   "execution_count": 24,
   "metadata": {},
   "outputs": [
    {
     "data": {
      "text/plain": [
       "True"
      ]
     },
     "execution_count": 24,
     "metadata": {},
     "output_type": "execute_result"
    }
   ],
   "source": [
    "from collections import Counter\n",
    "def checkanagram(str1,str2):\n",
    "    if(Counter(str1)==Counter(str2)):\n",
    "        return True\n",
    "    else:\n",
    "        return False\n",
    "checkanagram(\"abcabc\",\"aabbcc\")"
   ]
  },
  {
   "cell_type": "markdown",
   "metadata": {},
   "source": [
    "### PROBLEM STATEMENT\n",
    "- Frequency Distribution of all words in a text file arranged in dictionary order\n",
    "- Sample Input:\n",
    "- Python java data ML ML data\n",
    "- Sample Output:\n",
    "- data : 2\n",
    "- Java : 1\n",
    "- ML : 2\n",
    "- Python : 1\n"
   ]
  },
  {
   "cell_type": "code",
   "execution_count": 48,
   "metadata": {},
   "outputs": [
    {
     "name": "stdout",
     "output_type": "stream",
     "text": [
      "(Full 1\n",
      "(pictured) 1\n",
      "16 1\n",
      "18 1\n",
      "2006 3\n",
      "2006, 1\n",
      "22, 1\n",
      "23rd 1\n",
      "32nd 1\n",
      "41 1\n",
      "500 1\n",
      "500-lap 1\n",
      "65,000, 1\n",
      "Bobby 1\n",
      "Burton 1\n",
      "Busch 1\n",
      "Championship 1\n",
      "Championship, 1\n",
      "Chase 1\n",
      "Chevrolet 1\n",
      "Cup 1\n",
      "Cup. 1\n",
      "Denny 1\n",
      "Drivers' 1\n",
      "Hamlin 1\n",
      "Hendrick 1\n",
      "It 1\n",
      "Jeff 1\n",
      "Jimmie 1\n",
      "Johnson 2\n",
      "Johnson's 1\n",
      "Kenseth, 1\n",
      "Kurt 1\n",
      "Labonte 1\n",
      "Manufacturers' 1\n",
      "Martinsville 1\n",
      "Martinsville, 1\n",
      "Matt 1\n",
      "Motorsports; 1\n",
      "NASCAR 2\n",
      "Nextel 2\n",
      "October 1\n",
      "Series 1\n",
      "Speedway 1\n",
      "Subway 1\n",
      "The 3\n",
      "There 1\n",
      "Virginia, 1\n",
      "a 1\n",
      "advanced 1\n",
      "after 1\n",
      "and 4\n",
      "article...) 1\n",
      "at 1\n",
      "before 1\n",
      "behind 1\n",
      "by 2\n",
      "came 1\n",
      "car 1\n",
      "career. 1\n",
      "cautions 1\n",
      "championship 1\n",
      "changes 1\n",
      "crowd 1\n",
      "different 1\n",
      "drivers 1\n",
      "during 1\n",
      "fastest 1\n",
      "fifth 1\n",
      "finished 1\n",
      "five 2\n",
      "for 1\n",
      "four 1\n",
      "from 2\n",
      "held 1\n",
      "him 1\n",
      "his 2\n",
      "hold 1\n",
      "in 7\n",
      "its 1\n",
      "lead 3\n",
      "left 1\n",
      "maintained 1\n",
      "ninth 1\n",
      "of 6\n",
      "on 1\n",
      "one 1\n",
      "over 1\n",
      "points 1\n",
      "pole 1\n",
      "position 1\n",
      "position. 1\n",
      "qualifying; 1\n",
      "race 2\n",
      "race. 2\n",
      "races 1\n",
      "races. 1\n",
      "result 1\n",
      "retired 1\n",
      "season, 1\n",
      "season. 1\n",
      "second, 1\n",
      "short 1\n",
      "sixth 1\n",
      "started 1\n",
      "stock 1\n",
      "ten-race 1\n",
      "the 15\n",
      "third 1\n",
      "third. 1\n",
      "time 1\n",
      "to 2\n",
      "took 1\n",
      "tracks 1\n",
      "was 4\n",
      "were 1\n",
      "who 1\n",
      "win 1\n",
      "with 2\n",
      "won 2\n"
     ]
    }
   ],
   "source": [
    "from collections import Counter\n",
    "def word_count(fname):\n",
    "        k={}\n",
    "        with open(fname) as f:\n",
    "                k= Counter(f.read().split())\n",
    "                return k\n",
    "def sort_word(filename):\n",
    "    k=word_count(filename)\n",
    "    for i,j in sorted(k.items()):\n",
    "        print(i,j)\n",
    "filename='Datasets/sampletext'\n",
    "sort_word(filename)"
   ]
  },
  {
   "cell_type": "markdown",
   "metadata": {},
   "source": [
    "### Problem statement\n",
    "- Minimum character additions/deletions to make two strings as Anagrams\n",
    "- abcabc\t\taabbcc -> 0\n",
    "- abcd abcdd -> 1\n",
    "- 123abcbca  456aaabbbccc -> 9\n"
   ]
  },
  {
   "cell_type": "code",
   "execution_count": 58,
   "metadata": {},
   "outputs": [
    {
     "name": "stdout",
     "output_type": "stream",
     "text": [
      "9\n"
     ]
    }
   ],
   "source": [
    "def add_diffcount(s1,s2):\n",
    "    diff=Counter(s2)-Counter(s1)\n",
    "    diff1=Counter(s1)-Counter(s2)\n",
    "    print(len(diff1)+len(diff))\n",
    "add_diffcount(\"123abcbca\",\"456aaabbbccc\")\n",
    "    "
   ]
  },
  {
   "cell_type": "code",
   "execution_count": null,
   "metadata": {},
   "outputs": [],
   "source": []
  }
 ],
 "metadata": {
  "kernelspec": {
   "display_name": "Python 3",
   "language": "python",
   "name": "python3"
  },
  "language_info": {
   "codemirror_mode": {
    "name": "ipython",
    "version": 3
   },
   "file_extension": ".py",
   "mimetype": "text/x-python",
   "name": "python",
   "nbconvert_exporter": "python",
   "pygments_lexer": "ipython3",
   "version": "3.8.3"
  }
 },
 "nbformat": 4,
 "nbformat_minor": 4
}
