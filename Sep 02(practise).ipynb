{
 "cells": [
  {
   "cell_type": "markdown",
   "metadata": {},
   "source": [
    "##  Functional Programming\n",
    "\n",
    "- List Comprehension\n",
    "- Map\n",
    "- Lambda Functions\n",
    "- Filter\n",
    "- Reduce\n",
    "- Iterators\n",
    "- Generators\n"
   ]
  },
  {
   "cell_type": "markdown",
   "metadata": {},
   "source": [
    "### Map\n",
    "- Map is a function in Python that maps a function with a iterable(list,tuple,dict)"
   ]
  },
  {
   "cell_type": "code",
   "execution_count": 3,
   "metadata": {},
   "outputs": [
    {
     "data": {
      "text/plain": [
       "['1', '2', '3', '4']"
      ]
     },
     "execution_count": 3,
     "metadata": {},
     "output_type": "execute_result"
    }
   ],
   "source": [
    "list(map(str,[1,2,3,4]))"
   ]
  },
  {
   "cell_type": "code",
   "execution_count": 6,
   "metadata": {},
   "outputs": [],
   "source": [
    "# List of factorials for all elements in a range -> Factorial list\n",
    "def factorial(n):\n",
    "    fact=1\n",
    "    for i in range(1,n+1):\n",
    "        fact=fact*i\n",
    "    return fact\n",
    "\n",
    "#list comprehension\n",
    "def factoriallist1(li):\n",
    "    return [factorial(i) for i in li]\n",
    "\n",
    "#Map\n",
    "def factoriallist2(li):\n",
    "    return list(map(factorial,li))\n",
    "\n"
   ]
  },
  {
   "cell_type": "code",
   "execution_count": 7,
   "metadata": {},
   "outputs": [
    {
     "data": {
      "text/plain": [
       "[1,\n",
       " 2,\n",
       " 6,\n",
       " 24,\n",
       " 120,\n",
       " 720,\n",
       " 5040,\n",
       " 40320,\n",
       " 362880,\n",
       " 3628800,\n",
       " 39916800,\n",
       " 479001600,\n",
       " 6227020800,\n",
       " 87178291200,\n",
       " 1307674368000,\n",
       " 20922789888000,\n",
       " 355687428096000,\n",
       " 6402373705728000,\n",
       " 121645100408832000,\n",
       " 2432902008176640000]"
      ]
     },
     "execution_count": 7,
     "metadata": {},
     "output_type": "execute_result"
    }
   ],
   "source": [
    "factoriallist2(list(range(1,21)))"
   ]
  },
  {
   "cell_type": "markdown",
   "metadata": {},
   "source": [
    "### Lambda Functions\n",
    "\n",
    "- Inline Functions"
   ]
  },
  {
   "cell_type": "code",
   "execution_count": 14,
   "metadata": {},
   "outputs": [
    {
     "data": {
      "text/plain": [
       "[1, 4, 9, 16, 25, 36, 49, 64, 81, 100]"
      ]
     },
     "execution_count": 14,
     "metadata": {},
     "output_type": "execute_result"
    }
   ],
   "source": [
    "# Generate a list of values for all elements raised to power of Y\n",
    "# list(range(1,101)),y=2\n",
    "\n",
    "def powerList(li,y):\n",
    "    pl=[]\n",
    "    for i in li:\n",
    "        pl.append(i**y)\n",
    "    return pl\n",
    "\n",
    "#list comprehension\n",
    "def powerList1(li,y):\n",
    "    return[i**y for in li]\n",
    "\n",
    "\n",
    "#lambda\n",
    "def powerlist2(li,y):\n",
    "    return list(map(lambda x:x**y,li))\n",
    "\n",
    "powerlist2(list(range(1,11)),2)    "
   ]
  },
  {
   "cell_type": "code",
   "execution_count": 19,
   "metadata": {},
   "outputs": [
    {
     "data": {
      "text/plain": [
       "[1, 128, 6561, 262144]"
      ]
     },
     "execution_count": 19,
     "metadata": {},
     "output_type": "execute_result"
    }
   ],
   "source": [
    "# Raise every element in the list1 to the corresponding element in list2\n",
    "\n",
    "#li1={1,2,3,4},li2={9,8,7,6}\n",
    "#=> {1**9, 2**8, 3**7, 4**6}\n",
    "\n",
    "#map\n",
    "def powerlists(li1,li2):\n",
    "    return list(map(lambda i,j:i**j,li1,li2))\n",
    "\n",
    "#lambda\n",
    "def powerlists1(li1,li2):\n",
    "    return [lambda i,j:i**j for i in li1 for j in li2]\n",
    "\n",
    "powerlists(list(range(1,5)),list(range(6,10)))"
   ]
  },
  {
   "cell_type": "markdown",
   "metadata": {},
   "source": [
    "### Filter\n",
    "\n",
    "- Used to filter data from iterables that satisfy the criteria\n",
    "\n"
   ]
  },
  {
   "cell_type": "code",
   "execution_count": 22,
   "metadata": {},
   "outputs": [
    {
     "data": {
      "text/plain": [
       "[1, 27, 125, 343, 729]"
      ]
     },
     "execution_count": 22,
     "metadata": {},
     "output_type": "execute_result"
    }
   ],
   "source": [
    "# Identify odd cubes of numbers in a list\n",
    "\n",
    "def filteroddcubes(li):\n",
    "    return list(filter(lambda x: (x%2!=0), li))\n",
    "filteroddcubes(list(map(lambda x:x**3,list(range(1,11)))))"
   ]
  },
  {
   "cell_type": "markdown",
   "metadata": {},
   "source": [
    "### Packages and Modules\n",
    "\n",
    "- Module -> A function in Python \n",
    "- Package -> A python file(.py) which consists of modules"
   ]
  },
  {
   "cell_type": "code",
   "execution_count": 24,
   "metadata": {},
   "outputs": [
    {
     "data": {
      "text/plain": [
       "2"
      ]
     },
     "execution_count": 24,
     "metadata": {},
     "output_type": "execute_result"
    }
   ],
   "source": [
    "import math\n",
    "#from math import ceil,floor\n",
    "#import math as c   --(to change package name)\n",
    "\n",
    "\n",
    "\n",
    "math.ceil(2.345)\n",
    "math.floor(2.345)"
   ]
  },
  {
   "cell_type": "code",
   "execution_count": 31,
   "metadata": {},
   "outputs": [
    {
     "data": {
      "text/plain": [
       "True"
      ]
     },
     "execution_count": 31,
     "metadata": {},
     "output_type": "execute_result"
    }
   ],
   "source": [
    "from packages.numerical import *\n",
    "\n",
    "factorial(5)\n",
    "f_prime(23)\n"
   ]
  },
  {
   "cell_type": "code",
   "execution_count": null,
   "metadata": {},
   "outputs": [],
   "source": []
  }
 ],
 "metadata": {
  "kernelspec": {
   "display_name": "Python 3",
   "language": "python",
   "name": "python3"
  },
  "language_info": {
   "codemirror_mode": {
    "name": "ipython",
    "version": 3
   },
   "file_extension": ".py",
   "mimetype": "text/x-python",
   "name": "python",
   "nbconvert_exporter": "python",
   "pygments_lexer": "ipython3",
   "version": "3.8.3"
  }
 },
 "nbformat": 4,
 "nbformat_minor": 4
}
